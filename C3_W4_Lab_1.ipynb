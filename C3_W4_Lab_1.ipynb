{
    "metadata": {
        "kernelspec": {
            "name": "SQL",
            "display_name": "SQL",
            "language": "sql"
        },
        "language_info": {
            "name": "sql",
            "version": ""
        },
        "colab": {
            "collapsed_sections": [],
            "name": "C3_W4_Lab_1.ipynb",
            "private_outputs": true,
            "provenance": [],
            "toc_visible": true
        }
    },
    "nbformat_minor": 2,
    "nbformat": 4,
    "cells": [
        {
            "cell_type": "markdown",
            "source": [
                "<a href=\"https://colab.research.google.com/github/https-deeplearning-ai/tensorflow-1-public/blob/master/C3/W4/ungraded_labs/C3_W4_Lab_1.ipynb\" target=\"_parent\"><img src=\"https://colab.research.google.com/assets/colab-badge.svg\" alt=\"Open In Colab\"/></a>"
            ],
            "metadata": {
                "azdata_cell_guid": "2f6d6e55-c61b-4403-b07b-648813361316"
            }
        },
        {
            "cell_type": "markdown",
            "source": [
                "# Ungraded Lab: Generating Text with Neural Networks\n",
                "\n",
                "For this week, you will look at techniques to prepare data and build models for text generation. You will train a neural network with lyrics from an Irish song then let it make a new song for you. Though this might sound like a more complex application, you'll soon see that the process is very similar to the ones you've been using in the previous weeks. Only minor modifications are needed. Let's see what these are in the next sections."
            ],
            "metadata": {
                "id": "4VKWPfcBiYZO",
                "azdata_cell_guid": "5d8a90b1-be60-4f09-b21e-ceeb18ef9886"
            }
        },
        {
            "cell_type": "markdown",
            "source": [
                "## Imports\n",
                "\n",
                "First, you will import the required libraries. You've used all of these already in the previous labs."
            ],
            "metadata": {
                "id": "SgasH2Bvzds6",
                "azdata_cell_guid": "9c23c63c-522f-4958-8afe-468015d17fb4"
            }
        },
        {
            "cell_type": "code",
            "source": [
                "import tensorflow as tf\n",
                "import numpy as np \n",
                "from tensorflow.keras.layers import Embedding, LSTM, Dense, Bidirectional\n",
                "from tensorflow.keras.models import Sequential\n",
                "from tensorflow.keras.preprocessing.text import Tokenizer\n",
                "from tensorflow.keras.preprocessing.sequence import pad_sequences"
            ],
            "metadata": {
                "id": "BOwsuGQQY9OL",
                "azdata_cell_guid": "86e60fa6-9b57-42c6-93c0-6b264736358f",
                "language": "sql"
            },
            "outputs": [],
            "execution_count": null
        },
        {
            "cell_type": "markdown",
            "source": [
                "## Building the Word Vocabulary\n",
                "\n",
                "The dataset is the lyrics of [*Lanigan's Ball*](https://en.wikipedia.org/wiki/Lanigan%27s_Ball), a traditional Irish song. You will split it per line then use the `Tokenizer` class to build the word index dictionary."
            ],
            "metadata": {
                "id": "nqSrSYWD0CxU",
                "azdata_cell_guid": "3603c186-8cc7-434c-bf12-552306f00006"
            }
        },
        {
            "cell_type": "code",
            "source": [
                "# Define the lyrics of the song\n",
                "data=\"In the town of Athy one Jeremy Lanigan \\n Battered away til he hadnt a pound. \\nHis father died and made him a man again \\n Left him a farm and ten acres of ground. \\nHe gave a grand party for friends and relations \\nWho didnt forget him when come to the wall, \\nAnd if youll but listen Ill make your eyes glisten \\nOf the rows and the ructions of Lanigans Ball. \\nMyself to be sure got free invitation, \\nFor all the nice girls and boys I might ask, \\nAnd just in a minute both friends and relations \\nWere dancing round merry as bees round a cask. \\nJudy ODaly, that nice little milliner, \\nShe tipped me a wink for to give her a call, \\nAnd I soon arrived with Peggy McGilligan \\nJust in time for Lanigans Ball. \\nThere were lashings of punch and wine for the ladies, \\nPotatoes and cakes; there was bacon and tea, \\nThere were the Nolans, Dolans, OGradys \\nCourting the girls and dancing away. \\nSongs they went round as plenty as water, \\nThe harp that once sounded in Taras old hall,\\nSweet Nelly Gray and The Rat Catchers Daughter,\\nAll singing together at Lanigans Ball. \\nThey were doing all kinds of nonsensical polkas \\nAll round the room in a whirligig. \\nJulia and I, we banished their nonsense \\nAnd tipped them the twist of a reel and a jig. \\nAch mavrone, how the girls got all mad at me \\nDanced til youd think the ceiling would fall. \\nFor I spent three weeks at Brooks Academy \\nLearning new steps for Lanigans Ball. \\nThree long weeks I spent up in Dublin, \\nThree long weeks to learn nothing at all,\\n Three long weeks I spent up in Dublin, \\nLearning new steps for Lanigans Ball. \\nShe stepped out and I stepped in again, \\nI stepped out and she stepped in again, \\nShe stepped out and I stepped in again, \\nLearning new steps for Lanigans Ball. \\nBoys were all merry and the girls they were hearty \\nAnd danced all around in couples and groups, \\nTil an accident happened, young Terrance McCarthy \\nPut his right leg through miss Finnertys hoops. \\nPoor creature fainted and cried Meelia murther, \\nCalled for her brothers and gathered them all. \\nCarmody swore that hed go no further \\nTil he had satisfaction at Lanigans Ball. \\nIn the midst of the row miss Kerrigan fainted, \\nHer cheeks at the same time as red as a rose. \\nSome of the lads declared she was painted, \\nShe took a small drop too much, I suppose. \\nHer sweetheart, Ned Morgan, so powerful and able, \\nWhen he saw his fair colleen stretched out by the wall, \\nTore the left leg from under the table \\nAnd smashed all the Chaneys at Lanigans Ball. \\nBoys, oh boys, twas then there were runctions. \\nMyself got a lick from big Phelim McHugh. \\nI soon replied to his introduction \\nAnd kicked up a terrible hullabaloo. \\nOld Casey, the piper, was near being strangled. \\nThey squeezed up his pipes, bellows, chanters and all. \\nThe girls, in their ribbons, they got all entangled \\nAnd that put an end to Lanigans Ball.\"\n",
                "\n",
                "# Split the long string per line and put in a list\n",
                "corpus = data.lower().split(\"\\n\")\n",
                "\n",
                "# Preview the result\n",
                "print(corpus)"
            ],
            "metadata": {
                "id": "doUCQnYfvsmA",
                "azdata_cell_guid": "c71acb3d-d3fd-4b99-a4fe-04e5db64befb",
                "language": "sql"
            },
            "outputs": [],
            "execution_count": null
        },
        {
            "cell_type": "code",
            "source": [
                "# Initialize the Tokenizer class\n",
                "tokenizer = Tokenizer()\n",
                "\n",
                "# Generate the word index dictionary\n",
                "tokenizer.fit_on_texts(corpus)\n",
                "\n",
                "# Define the total words. You add 1 for the index `0` which is just the padding token.\n",
                "total_words = len(tokenizer.word_index) + 1\n",
                "\n",
                "print(f'word index dictionary: {tokenizer.word_index}')\n",
                "print(f'total words: {total_words}')"
            ],
            "metadata": {
                "id": "PRnDnCW-Z7qv",
                "azdata_cell_guid": "90c8bd86-8c8f-4ad2-b8a2-ca0e48008b52",
                "language": "sql"
            },
            "outputs": [],
            "execution_count": null
        },
        {
            "cell_type": "markdown",
            "source": [
                "## Preprocessing the Dataset\n",
                "\n",
                "Next, you will be generating the training sequences and their labels. As discussed in the lectures, you will take each line of the song and generate inputs and labels from it. For example, if you only have one sentence: \"I am using Tensorflow\", you want the model to learn the next word given any subphrase of this sentence:\n",
                "\n",
                "```\n",
                "INPUT              LABEL\n",
                "-----------------------------\n",
                "I             ---> am\n",
                "I am          ---> using\n",
                "I am using    ---> Tensorflow\n",
                "```\n",
                "\n",
                "The next cell shows how to implement this concept in code. The result would be inputs as padded sequences, and labels as one-hot encoded arrays."
            ],
            "metadata": {
                "id": "mBE10Hx_0PA_",
                "azdata_cell_guid": "8946cb3b-e1d3-4245-9c2d-0f4e6e420643"
            }
        },
        {
            "cell_type": "code",
            "source": [
                "# Initialize the sequences list\n",
                "input_sequences = []\n",
                "\n",
                "# Loop over every line\n",
                "for line in corpus:\n",
                "\n",
                "\t# Tokenize the current line\n",
                "\ttoken_list = tokenizer.texts_to_sequences([line])[0]\n",
                "\n",
                "\t# Loop over the line several times to generate the subphrases\n",
                "\tfor i in range(1, len(token_list)):\n",
                "\t\t\n",
                "\t\t# Generate the subphrase\n",
                "\t\tn_gram_sequence = token_list[:i+1]\n",
                "\n",
                "\t\t# Append the subphrase to the sequences list\n",
                "\t\tinput_sequences.append(n_gram_sequence)\n",
                "\n",
                "# Get the length of the longest line\n",
                "max_sequence_len = max([len(x) for x in input_sequences])\n",
                "\n",
                "# Pad all sequences\n",
                "input_sequences = np.array(pad_sequences(input_sequences, maxlen=max_sequence_len, padding='pre'))\n",
                "\n",
                "# Create inputs and label by splitting the last token in the subphrases\n",
                "xs, labels = input_sequences[:,:-1],input_sequences[:,-1]\n",
                "\n",
                "# Convert the label into one-hot arrays\n",
                "ys = tf.keras.utils.to_categorical(labels, num_classes=total_words)"
            ],
            "metadata": {
                "id": "soPGVheskaQP",
                "azdata_cell_guid": "d2d7970b-fb19-4b82-8985-aae14383413c",
                "language": "sql"
            },
            "outputs": [],
            "execution_count": null
        },
        {
            "cell_type": "markdown",
            "source": [
                "Let's see the result for the first line of the song. The particular line and the expected token sequence is shown in the cell below:"
            ],
            "metadata": {
                "id": "ipaZBkMa9C2Y",
                "azdata_cell_guid": "510394e4-3ea9-41be-b290-9a624628b032"
            }
        },
        {
            "cell_type": "code",
            "source": [
                "# Get sample sentence\n",
                "sentence = corpus[0].split()\n",
                "print(f'sample sentence: {sentence}')\n",
                "\n",
                "# Initialize token list\n",
                "token_list = []\n",
                "\n",
                "# Look up the indices of each word and append to the list\n",
                "for word in sentence: \n",
                "  token_list.append(tokenizer.word_index[word])\n",
                "\n",
                "# Print the token list\n",
                "print(token_list)"
            ],
            "metadata": {
                "id": "pJtwVB2NbOAP",
                "azdata_cell_guid": "33b9cdaf-b178-455b-b1c9-b49f328fad85",
                "language": "sql"
            },
            "outputs": [],
            "execution_count": null
        },
        {
            "cell_type": "markdown",
            "source": [
                "Since there are 8 tokens here, you can expect to find this particular line in the first 7 elements of the `xs` that you generated earlier. If we get the longest subphrase generated, that should be found in `xs[6]`. See the padded token sequence below:"
            ],
            "metadata": {
                "id": "qJHHJAt99Y6P",
                "azdata_cell_guid": "5a6386d9-2d7e-4fcf-8944-232c901b6234"
            }
        },
        {
            "cell_type": "code",
            "source": [
                "# Pick element\n",
                "elem_number = 6\n",
                "\n",
                "# Print token list and phrase\n",
                "print(f'token list: {xs[elem_number]}')\n",
                "print(f'decoded to text: {tokenizer.sequences_to_texts([xs[elem_number]])}')\n"
            ],
            "metadata": {
                "id": "49Cv68JOakwv",
                "azdata_cell_guid": "8020dc76-7485-4c7a-97ba-6b2bd0893df7",
                "language": "sql"
            },
            "outputs": [],
            "execution_count": null
        },
        {
            "cell_type": "markdown",
            "source": [
                "If you print out the label, it should show `70` because that is the next word in the phrase (i.e. `lanigan`). See the one-hot encoded form below. You can use the [`np.argmax()`](https://numpy.org/doc/stable/reference/generated/numpy.argmax.html) method to get the index of the 'hot' label."
            ],
            "metadata": {
                "id": "1_Ih_j6L_xFD",
                "azdata_cell_guid": "2482d0a1-94f7-458d-9fd7-e0b7965dbf73"
            }
        },
        {
            "cell_type": "code",
            "source": [
                "# Print label\n",
                "print(f'one-hot label: {ys[elem_number]}')\n",
                "print(f'index of label: {np.argmax(ys[elem_number])}')"
            ],
            "metadata": {
                "id": "iY-jwvfgbEF8",
                "azdata_cell_guid": "2cb059dc-1ef6-48b4-94fa-e6c304cf8090",
                "language": "sql"
            },
            "outputs": [],
            "execution_count": null
        },
        {
            "cell_type": "markdown",
            "source": [
                "If you pick the element before that, you will see the same subphrase as above minus one word:"
            ],
            "metadata": {
                "id": "qOMge9xdAmjg",
                "azdata_cell_guid": "e36e2759-f793-4f35-a968-82ada5c26a47"
            }
        },
        {
            "cell_type": "code",
            "source": [
                "# Pick element\n",
                "elem_number = 5\n",
                "\n",
                "# Print token list and phrase\n",
                "print(f'token list: {xs[elem_number]}')\n",
                "print(f'decoded to text: {tokenizer.sequences_to_texts([xs[elem_number]])}')\n",
                "\n",
                "# Print label\n",
                "print(f'one-hot label: {ys[elem_number]}')\n",
                "print(f'index of label: {np.argmax(ys[elem_number])}')"
            ],
            "metadata": {
                "id": "wtzlUMYadhKt",
                "azdata_cell_guid": "20a8ecc1-b6c3-468c-9840-ddadcaea4653",
                "language": "sql"
            },
            "outputs": [],
            "execution_count": null
        },
        {
            "cell_type": "markdown",
            "source": [
                "## Build the Model\n",
                "\n",
                "Next, you will build the model with basically the same layers as before. The main difference is you will remove the sigmoid output and use a softmax activated `Dense` layer instead. This output layer will have one neuron for each word in the vocabulary. So given an input token list, the output array of the final layer will have the probabilities for each word."
            ],
            "metadata": {
                "id": "c6w_I9OUA2D3",
                "azdata_cell_guid": "180bb453-625a-4d0f-be65-6b57eeab5c8e"
            }
        },
        {
            "cell_type": "code",
            "source": [
                "# Build the model\n",
                "model = Sequential([\n",
                "          Embedding(total_words, 64, input_length=max_sequence_len-1),\n",
                "          Bidirectional(LSTM(20)),\n",
                "          Dense(total_words, activation='softmax')\n",
                "])\n",
                "\n",
                "# Use categorical crossentropy because this is a multi-class problem\n",
                "model.compile(loss='categorical_crossentropy', optimizer='adam', metrics=['accuracy'])\n",
                "\n",
                "# Print the model summary\n",
                "model.summary()"
            ],
            "metadata": {
                "id": "w9vH8Y59ajYL",
                "azdata_cell_guid": "ddeeac9b-3e3f-4bee-bbc1-ea9cf701c0b0",
                "language": "sql"
            },
            "outputs": [],
            "execution_count": null
        },
        {
            "cell_type": "markdown",
            "source": [
                "## Train the model\n",
                "\n",
                "You can now train the model. We have a relatively small vocabulary so it will only take a couple of minutes to complete 500 epochs."
            ],
            "metadata": {
                "id": "0Xnb6i2WC_sy",
                "azdata_cell_guid": "e808b0cb-e457-44a9-a5a5-d5199ae275f7"
            }
        },
        {
            "cell_type": "code",
            "source": [
                "# Train the model\n",
                "history = model.fit(xs, ys, epochs=500)"
            ],
            "metadata": {
                "id": "mF2k2nD9vgsD",
                "azdata_cell_guid": "91d8e8e1-0c7d-49a4-b6a9-cd696d30b82d",
                "language": "sql"
            },
            "outputs": [],
            "execution_count": null
        },
        {
            "cell_type": "markdown",
            "source": [
                "You can visualize the results with the utility below. With the default settings, you should see around 95% accuracy after 500 epochs."
            ],
            "metadata": {
                "id": "hRwgZjJxDTqh",
                "azdata_cell_guid": "9743c8a8-5a97-4913-9f04-6d5a916559d3"
            }
        },
        {
            "cell_type": "code",
            "source": [
                "import matplotlib.pyplot as plt\n",
                "\n",
                "# Plot utility\n",
                "def plot_graphs(history, string):\n",
                "  plt.plot(history.history[string])\n",
                "  plt.xlabel(\"Epochs\")\n",
                "  plt.ylabel(string)\n",
                "  plt.show()\n",
                "\n",
                "# Visualize the accuracy\n",
                "plot_graphs(history, 'accuracy')"
            ],
            "metadata": {
                "id": "3YXGelKThoTT",
                "azdata_cell_guid": "ab26a528-5150-4d64-aeb7-3b215b174a22",
                "language": "sql"
            },
            "outputs": [],
            "execution_count": null
        },
        {
            "cell_type": "markdown",
            "source": [
                "## Generating Text\n",
                "\n",
                "With the model trained, you can now use it to make its own song! The process would look like:\n",
                "\n",
                "1. Feed a seed text to initiate the process.\n",
                "2. Model predicts the index of the most probable next word.\n",
                "3. Look up the index in the reverse word index dictionary\n",
                "4. Append the next word to the seed text.\n",
                "5. Feed the result to the model again.\n",
                "\n",
                "Steps 2 to 5 will repeat until the desired length of the song is reached. See how it is implemented in the code below:"
            ],
            "metadata": {
                "id": "NUmA472NDn_v",
                "azdata_cell_guid": "33a273fd-1ddd-4700-a16e-805ab984d7f3"
            }
        },
        {
            "cell_type": "code",
            "source": [
                "# Define seed text\n",
                "seed_text = \"Laurence went to Dublin\"\n",
                "\n",
                "# Define total words to predict\n",
                "next_words = 100\n",
                "\n",
                "# Loop until desired length is reached\n",
                "for _ in range(next_words):\n",
                "\n",
                "\t# Convert the seed text to a token sequence\n",
                "\ttoken_list = tokenizer.texts_to_sequences([seed_text])[0]\n",
                "\n",
                "\t# Pad the sequence\n",
                "\ttoken_list = pad_sequences([token_list], maxlen=max_sequence_len-1, padding='pre')\n",
                "\t\n",
                "\t# Feed to the model and get the probabilities for each index\n",
                "\tprobabilities = model.predict(token_list)\n",
                "\n",
                "\t# Get the index with the highest probability\n",
                "\tpredicted = np.argmax(probabilities, axis=-1)[0]\n",
                "\n",
                "\t# Ignore if index is 0 because that is just the padding.\n",
                "\tif predicted != 0:\n",
                "\t\t\n",
                "\t\t# Look up the word associated with the index. \n",
                "\t\toutput_word = tokenizer.index_word[predicted]\n",
                "\n",
                "\t\t# Combine with the seed text\n",
                "\t\tseed_text += \" \" + output_word\n",
                "\n",
                "# Print the result\t\n",
                "print(seed_text)"
            ],
            "metadata": {
                "id": "6Vc6PHgxa6Hm",
                "azdata_cell_guid": "33ecc49a-ed5d-4321-99fd-771eccc363ac",
                "language": "sql"
            },
            "outputs": [],
            "execution_count": null
        },
        {
            "cell_type": "markdown",
            "source": [
                "In the output above, you might notice frequent repetition of words the longer the sentence gets. There are ways to get around it and the next cell shows one. Basically, instead of getting the index with max probability, you will get the top three indices and choose one at random. See if the output text makes more sense with this approach. This is not the most time efficient solution because it is always sorting the entire array even if you only need the top three. Feel free to improve it and of course, you can also develop your own method of picking the next word."
            ],
            "metadata": {
                "id": "HU7eZOKiFydr",
                "azdata_cell_guid": "8acab531-4fb1-464f-9f5c-c90e57dcc9b6"
            }
        },
        {
            "cell_type": "code",
            "source": [
                "# Define seed text\n",
                "seed_text = \"Laurence went to Dublin\"\n",
                "\n",
                "# Define total words to predict\n",
                "next_words = 100\n",
                "\n",
                "# Loop until desired length is reached\n",
                "for _ in range(next_words):\n",
                "\n",
                "\t# Convert the seed text to a token sequence\n",
                "  token_list = tokenizer.texts_to_sequences([seed_text])[0]\n",
                "\n",
                "\t# Pad the sequence\n",
                "  token_list = pad_sequences([token_list], maxlen=max_sequence_len-1, padding='pre')\n",
                "\t\n",
                "\t# Feed to the model and get the probabilities for each index\n",
                "  probabilities = model.predict(token_list)\n",
                "\n",
                "  # Pick a random number from [1,2,3]\n",
                "  choice = np.random.choice([1,2,3])\n",
                "\t\n",
                "  # Sort the probabilities in ascending order \n",
                "  # and get the random choice from the end of the array\n",
                "  predicted = np.argsort(probabilities)[0][-choice]\n",
                "\n",
                "\t# Ignore if index is 0 because that is just the padding.\n",
                "  if predicted != 0:\n",
                "\t\t\n",
                "\t\t# Look up the word associated with the index. \n",
                "\t  output_word = tokenizer.index_word[predicted]\n",
                "\n",
                "\t\t# Combine with the seed text\n",
                "\t  seed_text += \" \" + output_word\n",
                "\n",
                "# Print the result\t\n",
                "print(seed_text)"
            ],
            "metadata": {
                "id": "JZqJKIpgkiYt",
                "azdata_cell_guid": "06a262d7-36ae-4ddd-a08e-494bcf026482",
                "language": "sql"
            },
            "outputs": [],
            "execution_count": null
        },
        {
            "cell_type": "markdown",
            "source": [
                "## Wrap Up\n",
                "\n",
                "In this lab, you got a first look at preparing data and building a model for text generation. The corpus is fairly small in this particular exercise and in the next lessons, you will be building one from a larger body of text. See you there!"
            ],
            "metadata": {
                "id": "dXg6aEu5dKiV",
                "azdata_cell_guid": "f456c7c2-42a2-461f-9141-c56cc0cfef54"
            }
        }
    ]
}